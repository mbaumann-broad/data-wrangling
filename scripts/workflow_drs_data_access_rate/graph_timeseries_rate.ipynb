{
 "cells": [
  {
   "cell_type": "markdown",
   "metadata": {},
   "source": [
    "# graph_timeseries_rate\n",
    "\n",
    "Graph the number of Terra workflow DRS localization operations per second,\n",
    "based on `Localizing input drs://` log entry timestamps."
   ]
  },
  {
   "cell_type": "markdown",
   "metadata": {},
   "source": [
    "This data is based on workflow runs performed in the Terra `alpha` preproduction tier in the Terra workspace:   \n",
    "`DRS Data Access Scale Testing - Alpha`  \n",
    "as user `b.adm.firec@gmail.com`"
   ]
  },
  {
   "cell_type": "markdown",
   "metadata": {},
   "source": [
    "The input data for this Notebook is prepared by the `extract_drs_localization_timestamps.sh` script, here:  \n",
    "https://github.com/mbaumann-broad/data-wrangling/blob/workflow_data_access_rate/scripts/workflow_drs_data_access_rate/extract_drs_localization_timestamps.sh"
   ]
  },
  {
   "cell_type": "code",
   "execution_count": null,
   "metadata": {},
   "outputs": [],
   "source": [
    "import pandas as pd\n",
    "import matplotlib.pyplot as plt"
   ]
  },
  {
   "cell_type": "markdown",
   "metadata": {},
   "source": [
    "Uncomment the desired `INPUT_FILE` below to plot the data for that workflow run."
   ]
  },
  {
   "cell_type": "code",
   "execution_count": null,
   "metadata": {},
   "outputs": [],
   "source": [
    "# Configure the Terra workflow submission id from which to extract the data.\n",
    "# Shape 1 - 20k inputs\n",
    "# WF_SUBMISSION_ID=\"f67b144e-5b7c-4361-9c9f-381b4ff7f3e5\"\n",
    "# INPUT_FILE=\"./submission_f67b144e-5b7c-4361-9c9f-381b4ff7f3e5/drs_localization_timeseries.tsv\""
   ]
  },
  {
   "cell_type": "code",
   "execution_count": null,
   "metadata": {},
   "outputs": [],
   "source": [
    "# Shape 2 - 20k inputs scattered by 100 per task - Feb 1, 2022 3:30 PM\n",
    "# WF_SUBMISSION_ID=\"a98b1b4d-25d5-489a-a955-191334c8ab32\"\n",
    "# INPUT_FILE=\"./submission_a98b1b4d-25d5-489a-a955-191334c8ab32/drs_localization_timeseries.tsv\""
   ]
  },
  {
   "cell_type": "code",
   "execution_count": null,
   "metadata": {},
   "outputs": [],
   "source": [
    "# Shape 2 - 20k inputs scattered 20 per task - Oct 6, 2021 1:13 PM - aborted\n",
    "# Aborted due to end of test window. At the time, only 143 of 1,000 shards were created.\n",
    "# Gen3 reported DRS request rate of ~250/RPS\n",
    "# See: https://nhlbi-biodatacatalyst.slack.com/archives/C01CSE5P7KM/p1633717393028700?thread_ts=1633548575.026200&cid=C01CSE5P7KM\n",
    "# WF_SUBMISSION_ID=\"698cc797-8235-4585-873a-3d7a68192fa6\"\n",
    "INPUT_FILE=\"./submission_698cc797-8235-4585-873a-3d7a68192fa6/drs_localization_timeseries.tsv\""
   ]
  },
  {
   "cell_type": "code",
   "execution_count": null,
   "metadata": {},
   "outputs": [],
   "source": [
    "df = pd.read_csv(INPUT_FILE, sep=\"\\t\")"
   ]
  },
  {
   "cell_type": "code",
   "execution_count": null,
   "metadata": {},
   "outputs": [],
   "source": [
    "df['Timestamp']= pd.to_datetime(df['Timestamp'])\n",
    "df.set_index('Timestamp')\n",
    "resampled_df = df.resample(pd.Timedelta(1, 'second'), on='Timestamp')['Count'].sum().reset_index()"
   ]
  },
  {
   "cell_type": "markdown",
   "metadata": {},
   "source": [
    "The maximum rate per second measured:"
   ]
  },
  {
   "cell_type": "code",
   "execution_count": null,
   "metadata": {},
   "outputs": [],
   "source": [
    "resampled_df['Count'].max()"
   ]
  },
  {
   "cell_type": "markdown",
   "metadata": {},
   "source": [
    "Line plot for the rate per second:"
   ]
  },
  {
   "cell_type": "code",
   "execution_count": null,
   "metadata": {},
   "outputs": [],
   "source": [
    "plt.style.use(\"fast\")\n",
    "plt.figure(figsize=(12, 10))\n",
    "plt.xlabel(\"Time (one second interval)\")\n",
    "plt.ylabel(\"Rate per Second\")\n",
    "plt.title(\"Terra Workflow DRS Localization Rate Time Series Plot\")\n",
    "plt.plot(resampled_df[\"Count\"])"
   ]
  }
 ],
 "metadata": {
  "kernelspec": {
   "display_name": "Python 3",
   "language": "python",
   "name": "python3"
  },
  "language_info": {
   "codemirror_mode": {
    "name": "ipython",
    "version": 3
   },
   "file_extension": ".py",
   "mimetype": "text/x-python",
   "name": "python",
   "nbconvert_exporter": "python",
   "pygments_lexer": "ipython3",
   "version": "3.7.12"
  },
  "toc": {
   "base_numbering": 1,
   "nav_menu": {},
   "number_sections": false,
   "sideBar": true,
   "skip_h1_title": false,
   "title_cell": "Table of Contents",
   "title_sidebar": "Contents",
   "toc_cell": false,
   "toc_position": {},
   "toc_section_display": true,
   "toc_window_display": true
  }
 },
 "nbformat": 4,
 "nbformat_minor": 2
}
